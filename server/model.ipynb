{
 "cells": [
  {
   "cell_type": "code",
   "execution_count": 1,
   "metadata": {},
   "outputs": [],
   "source": [
    "import tensorflow as tf"
   ]
  },
  {
   "cell_type": "code",
   "execution_count": 2,
   "metadata": {},
   "outputs": [],
   "source": [
    "model = tf.keras.models.load_model('../final1.h5')"
   ]
  },
  {
   "cell_type": "code",
   "execution_count": 3,
   "metadata": {},
   "outputs": [
    {
     "name": "stdout",
     "output_type": "stream",
     "text": [
      "Model: \"sequential_6\"\n",
      "_________________________________________________________________\n",
      " Layer (type)                Output Shape              Param #   \n",
      "=================================================================\n",
      " Conv1 (Conv2D)              (None, 223, 223, 5)       65        \n",
      "                                                                 \n",
      " Conv2 (Conv2D)              (None, 222, 222, 5)       105       \n",
      "                                                                 \n",
      " Pool1 (MaxPooling2D)        (None, 111, 111, 5)       0         \n",
      "                                                                 \n",
      " Conv3 (Conv2D)              (None, 109, 109, 5)       230       \n",
      "                                                                 \n",
      " Conv4 (Conv2D)              (None, 107, 107, 5)       230       \n",
      "                                                                 \n",
      " Pool2 (MaxPooling2D)        (None, 53, 53, 5)         0         \n",
      "                                                                 \n",
      " Conv5 (Conv2D)              (None, 50, 50, 5)         405       \n",
      "                                                                 \n",
      " Conv6 (Conv2D)              (None, 47, 47, 5)         405       \n",
      "                                                                 \n",
      " Pool3 (MaxPooling2D)        (None, 23, 23, 5)         0         \n",
      "                                                                 \n",
      " flatten_6 (Flatten)         (None, 2645)              0         \n",
      "                                                                 \n",
      " Dense1 (Dense)              (None, 16)                42336     \n",
      "                                                                 \n",
      " Output (Dense)              (None, 4)                 68        \n",
      "                                                                 \n",
      "=================================================================\n",
      "Total params: 43,844\n",
      "Trainable params: 43,844\n",
      "Non-trainable params: 0\n",
      "_________________________________________________________________\n"
     ]
    }
   ],
   "source": [
    "model.summary()"
   ]
  },
  {
   "cell_type": "code",
   "execution_count": null,
   "metadata": {},
   "outputs": [],
   "source": []
  }
 ],
 "metadata": {
  "kernelspec": {
   "display_name": "GPUENV",
   "language": "python",
   "name": "python3"
  },
  "language_info": {
   "codemirror_mode": {
    "name": "ipython",
    "version": 3
   },
   "file_extension": ".py",
   "mimetype": "text/x-python",
   "name": "python",
   "nbconvert_exporter": "python",
   "pygments_lexer": "ipython3",
   "version": "3.9.16"
  },
  "orig_nbformat": 4,
  "vscode": {
   "interpreter": {
    "hash": "64e8153676fe1d2b8faa11e6b0990cea91f45168abb157af333813ca29cc565f"
   }
  }
 },
 "nbformat": 4,
 "nbformat_minor": 2
}
